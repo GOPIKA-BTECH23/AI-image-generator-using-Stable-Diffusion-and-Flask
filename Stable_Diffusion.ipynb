!pip install diffusers["torch"] transformers
!pip install accelerate
!pip install git+https://github.com/huggingface/diffusers
!pip install pyngrok
!pip install flask
import torch
from diffusers import StableDiffusionPipeline
from pyngrok import ngrok
from flask import Flask, request, jsonify
from PIL import Image
import io
import base64
# Initialize the Stable Diffusion Pipeline
pipe = StableDiffusionPipeline.from_pretrained("redstonehero/cetusmix_v4", torch_dtype=torch.float16)
pipe = pipe.to("cuda")
pipe.safety_checker = None
# Set up Flask app
app = Flask(__name__)
# Define image generation endpoint
@app.route('/generate_image', methods=['POST'])
def generate_image():
    data = request.get_json()
    prompt = data['prompt']
    h = data.get('height', 800)
    w = data.get('width', 640)
    steps = data.get('num_inference_steps', 25)
    guidance = data.get('guidance_scale', 7.5)
    neg = data.get('negative_prompt', "easynegative, human, lowres, bad anatomy, bad hands, text, error, missing fingers, extra digit, fewer digits, cropped, worstquality, low quality, normal quality, jpegartifacts, signature, watermark, username, blurry, bad feet, cropped, poorly drawn hands, poorly drawn face, mutation, deformed, worst quality, low quality, normal quality, jpeg artifacts, signature, watermark, extra fingers, fewer digits, extra limbs, extra arms,extra legs, malformed limbs, fused fingers, too many fingers, long neck, cross-eyed,mutated hands, polar lowres, bad body, bad proportions, gross proportions, text, error, missing fingers, missing arms, missing legs, extra digit, extra arms, extra leg, extra foot,")

    image = pipe(prompt, height=h, width=w, num_inference_steps=steps, guidance_scale=guidance, negative_prompt=neg).images[0]

    # Convert image to base64
    buffered = io.BytesIO()
    image.save(buffered, format="PNG")
    img_str = base64.b64encode(buffered.getvalue()).decode()

    return jsonify({'image': img_str})

# Start ngrok tunnel
ngrok.set_auth_token('your-ngrok-auth-token-here')
public_url = ngrok.connect(5000)
print(f'Public URL: {public_url}')

# Run the Flask app
app.run(port=5000)
